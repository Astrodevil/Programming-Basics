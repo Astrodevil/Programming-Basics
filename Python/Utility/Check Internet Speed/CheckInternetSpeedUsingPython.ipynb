{
  "nbformat": 4,
  "nbformat_minor": 0,
  "metadata": {
    "colab": {
      "name": "CheckInternetSpeedUsingPython.ipynb",
      "provenance": []
    },
    "kernelspec": {
      "name": "python3",
      "display_name": "Python 3"
    },
    "language_info": {
      "name": "python"
    }
  },
  "cells": [
    {
      "cell_type": "markdown",
      "metadata": {
        "id": "KTDP2Do4sigP"
      },
      "source": [
        "#Internet Speed Test using Python\n",
        "To calculate the speed of internet connection using Python, we have to install a Python library known as **speedtest**.\n",
        ">To install this Python library on your system, you can use the pip command on your terminal or the command prompt mentioned below:\n",
        "\n",
        ">`pip install speedtest-cli`\n",
        "\n",
        "The Code below demostrates how we can perform an internet speed test using Python."
      ]
    },
    {
      "cell_type": "code",
      "metadata": {
        "id": "cYL8hfzYsg1-"
      },
      "source": [
        "!pip install speedtest-cli"
      ],
      "execution_count": null,
      "outputs": []
    },
    {
      "cell_type": "code",
      "metadata": {
        "id": "2Z45CH2FtR73"
      },
      "source": [
        "import speedtest\n",
        "wifi  = speedtest.Speedtest()\n",
        "print(\"Wifi Download Speed is \", wifi.download())\n",
        "print(\"Wifi Upload Speed is \", wifi.upload())"
      ],
      "execution_count": null,
      "outputs": []
    }
  ]
}