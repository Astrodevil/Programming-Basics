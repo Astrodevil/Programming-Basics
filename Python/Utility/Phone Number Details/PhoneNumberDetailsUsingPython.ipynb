{
  "nbformat": 4,
  "nbformat_minor": 0,
  "metadata": {
    "colab": {
      "name": "PhoneNumberDetailsUsingPython.ipynb",
      "provenance": []
    },
    "kernelspec": {
      "name": "python3",
      "display_name": "Python 3"
    },
    "language_info": {
      "name": "python"
    }
  },
  "cells": [
    {
      "cell_type": "markdown",
      "metadata": {
        "id": "dI17RPaEmJRo"
      },
      "source": [
        "#Phone Number Details using Python\n",
        "To get the details of any number, we can use an amazing Python module known as **phonenumbers** . This module is created by [David Drysdale](https://www.linkedin.com/in/david-drysdale-1578771/) and you can use it to get the details of any phone number from anywhere in the world.\n",
        "\n",
        ">To install this Python module on your system, you can use the pip command on your terminal or the command prompt mentioned below:\n",
        "\n",
        ">`pip install phonenumbers`\n",
        "\n",
        "There are a lot of details you can find about a number using this Python module. The code below demonstrate how you can find some of the basic details about a phone number with the help of Python."
      ]
    },
    {
      "cell_type": "code",
      "metadata": {
        "id": "CmWqnK0gnjIG",
        "colab": {
          "base_uri": "https://localhost:8080/"
        },
        "outputId": "60ea5ca9-82de-4472-f2d7-b6f93125fa99"
      },
      "source": [
        "!pip install phonenumbers"
      ],
      "execution_count": 2,
      "outputs": [
        {
          "output_type": "stream",
          "name": "stdout",
          "text": [
            "Collecting phonenumbers\n",
            "  Downloading phonenumbers-8.12.33-py2.py3-none-any.whl (2.6 MB)\n",
            "\u001b[K     |████████████████████████████████| 2.6 MB 5.1 MB/s \n",
            "\u001b[?25hInstalling collected packages: phonenumbers\n",
            "Successfully installed phonenumbers-8.12.33\n"
          ]
        }
      ]
    },
    {
      "cell_type": "code",
      "metadata": {
        "colab": {
          "base_uri": "https://localhost:8080/"
        },
        "id": "esV9KSv4mD0I",
        "outputId": "6a27b4f4-343c-4dd9-9701-081e45c88611"
      },
      "source": [
        "import phonenumbers as ph\n",
        "from phonenumbers import carrier\n",
        "from phonenumbers import geocoder\n",
        "from phonenumbers import timezone\n",
        "\n",
        "number = input(\"Enter Phone Number: \") \n",
        "number = ph.parse(number)\n",
        "print(\"Time Zone: \",timezone.time_zones_for_number(number))\n",
        "print(\"Carrier Name: \",carrier.name_for_number(number, \"en\"))\n",
        "print(\"Location: \",geocoder.description_for_number(number, \"en\"))"
      ],
      "execution_count": 4,
      "outputs": [
        {
          "output_type": "stream",
          "name": "stdout",
          "text": [
            "Enter Phone Number: +911234567890\n",
            "Time Zone:  ('Asia/Calcutta',)\n",
            "Carrier Name:  \n",
            "Location:  Baghpat/Baraut, Uttar Pradesh\n"
          ]
        }
      ]
    }
  ]
}