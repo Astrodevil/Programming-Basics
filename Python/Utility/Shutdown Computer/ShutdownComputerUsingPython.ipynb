{
  "nbformat": 4,
  "nbformat_minor": 0,
  "metadata": {
    "colab": {
      "name": "ShutdownComputerUsingPython.ipynb",
      "provenance": []
    },
    "kernelspec": {
      "name": "python3",
      "display_name": "Python 3"
    },
    "language_info": {
      "name": "python"
    }
  },
  "cells": [
    {
      "cell_type": "markdown",
      "metadata": {
        "id": "dfhfm9WVuuch"
      },
      "source": [
        "#Shutdown Computer using Python\n",
        "To shutdown the system using Python programming language, one must have some knowledge of the OS module in Python. It comes preinstalled in the Python standard library, so you don’t need to write a pip command to install it. \n",
        "\n",
        "###OS Module Use\n",
        ">From reading or writing a file to shut down your system using Python, the OS module can be used in any task that depends on your system’s operating system.\n",
        "\n",
        "###To shutdown the computer with Python, be sure to ***save and close all running files*** except the code editor where you wrote the Python program to shutdown th system. \n",
        "\n",
        "The Code below Demostrates how to shutdown the computer using Python."
      ]
    },
    {
      "cell_type": "code",
      "metadata": {
        "id": "XIVKb2_Lt4gW"
      },
      "source": [
        "import os\n",
        "def shutdown_PC():\n",
        "    os.system(\"shutdown /s /t 1\")\n",
        "shutdown_PC()"
      ],
      "execution_count": null,
      "outputs": []
    }
  ]
}