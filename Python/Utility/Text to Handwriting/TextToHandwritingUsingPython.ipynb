{
  "nbformat": 4,
  "nbformat_minor": 0,
  "metadata": {
    "colab": {
      "name": "TextToHandwritingUsingPython.ipynb",
      "provenance": []
    },
    "kernelspec": {
      "name": "python3",
      "display_name": "Python 3"
    },
    "language_info": {
      "name": "python"
    }
  },
  "cells": [
    {
      "cell_type": "markdown",
      "metadata": {
        "id": "Rf6jsJqDzSbb"
      },
      "source": [
        "#Text to Handwriting using Python\n",
        "To convert text to handwriting, there is a library known as **PyWhatKit** in Python. It provides a lot of useful features, one can explore them [here](https://pypi.org/project/pywhatkit/).\n",
        "\n",
        ">To Install PyWhatKit, Run the following command in Terminal or Command prompt:\n",
        ">`pip install pywhatkit`\n",
        "\n",
        "In the code below, I first imported the pywhatkit and OpenCV libraries in Python. Here pywhatkit is used to convert text to handwritten text and OpenCV is used to visualize the image in which we are writing handwritten text."
      ]
    },
    {
      "cell_type": "code",
      "metadata": {
        "id": "KmKR8Qr0wqaO"
      },
      "source": [
        "!pip install pywhatkit"
      ],
      "execution_count": null,
      "outputs": []
    },
    {
      "cell_type": "code",
      "metadata": {
        "id": "HtrQdmOl0p52"
      },
      "source": [
        "import pywhatkit as kit\n",
        "import cv2\n",
        "\n",
        "kit.text_to_handwriting(\"Hello, Welcome to Text to Handwriting Program.\", save_to=\"handwriting.png\")\n",
        "img = cv2.imread(\"handwriting.png\")\n",
        "cv2.imshow(\"Text to Handwriting\", img)\n",
        "cv2.waitKey(0)\n",
        "cv2.destroyAllWindows()"
      ],
      "execution_count": null,
      "outputs": []
    }
  ]
}